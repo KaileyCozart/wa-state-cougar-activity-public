{
 "cells": [
  {
   "cell_type": "code",
   "execution_count": null,
   "id": "61ed1400-df8f-4239-9ec2-d8dee52c47aa",
   "metadata": {},
   "outputs": [],
   "source": [
    "# Editable Params\n",
    "file_for_line_plot = \"2024_cougar_activity_data_sample.csv\" # Must have \"date\" \"gmu\" and \"num cougars\" cols."
   ]
  },
  {
   "cell_type": "code",
   "execution_count": null,
   "id": "fe015c80-7fdb-4bc4-b80e-562a157c3e73",
   "metadata": {},
   "outputs": [],
   "source": [
    "# Imports\n",
    "import os\n",
    "import pandas as pd"
   ]
  },
  {
   "cell_type": "code",
   "execution_count": null,
   "id": "4725a703-e4b4-4cc2-b75a-bf389696bdf6",
   "metadata": {},
   "outputs": [],
   "source": [
    "# Sum Rows with Same GMU and Date for Plot\n",
    "csv = pd.read_csv(file_for_line_plot)\n",
    "modified_csv = csv.groupby([\"date\", \"gmu\"], as_index=False)[\"numcougars\"].sum()\n",
    "pd.set_option(\"display.max_rows\", None)\n",
    "print(modified_csv)"
   ]
  },
  {
   "cell_type": "code",
   "execution_count": null,
   "id": "042bfb6d-6674-4ee0-a99b-e0208cc160a7",
   "metadata": {},
   "outputs": [],
   "source": [
    "# Save CSV\n",
    "name, ext = os.path.splitext(file_for_line_plot)\n",
    "modified_csv.to_csv(f\"{name}_combined.csv\", index=False)"
   ]
  }
 ],
 "metadata": {
  "kernelspec": {
   "display_name": "Python 3 (ipykernel)",
   "language": "python",
   "name": "python3"
  },
  "language_info": {
   "codemirror_mode": {
    "name": "ipython",
    "version": 3
   },
   "file_extension": ".py",
   "mimetype": "text/x-python",
   "name": "python",
   "nbconvert_exporter": "python",
   "pygments_lexer": "ipython3",
   "version": "3.12.7"
  }
 },
 "nbformat": 4,
 "nbformat_minor": 5
}

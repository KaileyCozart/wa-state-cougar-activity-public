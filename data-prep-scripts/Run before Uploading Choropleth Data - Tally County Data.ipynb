{
 "cells": [
  {
   "cell_type": "code",
   "execution_count": null,
   "id": "e99f45bd-0f2e-4e2c-a196-43b362871ae8",
   "metadata": {},
   "outputs": [],
   "source": [
    "# Editable Params\n",
    "file_for_choropleth = \"df_2016_to_2025_complete.csv\" # Must have \"County\" column name."
   ]
  },
  {
   "cell_type": "code",
   "execution_count": null,
   "id": "cbace8d5-5cc5-4e64-93d8-edb2da5b0026",
   "metadata": {},
   "outputs": [],
   "source": [
    "# Imports\n",
    "import pandas as pd\n",
    "import csv\n",
    "from collections import Counter"
   ]
  },
  {
   "cell_type": "code",
   "execution_count": null,
   "id": "c50acad4-f84b-4ac6-a0b0-8b0e34e9b006",
   "metadata": {},
   "outputs": [],
   "source": [
    "# Read and Tally Data\n",
    "with open(file_for_choropleth) as file:\n",
    "    reader = csv.DictReader(file)\n",
    "    counts = Counter(row[\"County\"] for row in reader)\n",
    "print(counts)"
   ]
  },
  {
   "cell_type": "code",
   "execution_count": null,
   "id": "66d18f56-4721-42bc-be42-d303759484bd",
   "metadata": {},
   "outputs": [],
   "source": [
    "# Fix \"Grantunty\" Typo\n",
    "if \"Grantunty\" in counts:\n",
    "    counts[\"Grant\"] = counts.get(\"Grant\", 0) + counts[\"Grantunty\"]\n",
    "    del counts[\"Grantunty\"]\n",
    "print(counts)"
   ]
  },
  {
   "cell_type": "code",
   "execution_count": null,
   "id": "925b6dde-2807-4bb7-bd47-204f98b0878b",
   "metadata": {},
   "outputs": [],
   "source": [
    "# Map to County Values in Choropleth\n",
    "fips_map = {\n",
    "    \"Adams\": \"53001\",\n",
    "    \"Asotin\": \"53003\",\n",
    "    \"Benton\": \"53005\",\n",
    "    \"Chelan\": \"53007\",\n",
    "    \"Clallam\": \"53009\",\n",
    "    \"Clark\": \"53011\",\n",
    "    \"Columbia\": \"53013\",\n",
    "    \"Cowlitz\": \"53015\",\n",
    "    \"Douglas\": \"53017\",\n",
    "    \"Ferry\": \"53019\",\n",
    "    \"Franklin\": \"53021\",\n",
    "    \"Garfield\": \"53023\",\n",
    "    \"Grant\": \"53025\",\n",
    "    \"Grays Harbor\": \"53027\",\n",
    "    \"Island\": \"53029\",\n",
    "    \"Jefferson\": \"53031\",\n",
    "    \"King\": \"53033\",\n",
    "    \"Kitsap\": \"53035\",\n",
    "    \"Kittitas\": \"53037\",\n",
    "    \"Klickitat\": \"53039\",\n",
    "    \"Lewis\": \"53041\",\n",
    "    \"Lincoln\": \"53043\",\n",
    "    \"Mason\": \"53045\",\n",
    "    \"Okanogan\": \"53047\",\n",
    "    \"Pacific\": \"53049\",\n",
    "    \"Pend Oreille\": \"53051\",\n",
    "    \"Pierce\": \"53053\",\n",
    "    \"San Juan\": \"53055\",\n",
    "    \"Skagit\": \"53057\",\n",
    "    \"Skamania\": \"53059\",\n",
    "    \"Snohomish\": \"53061\",\n",
    "    \"Spokane\": \"53063\",\n",
    "    \"Stevens\": \"53065\",\n",
    "    \"Thurston\": \"53067\",\n",
    "    \"Wahkiakum\": \"53069\",\n",
    "    \"Walla Walla\": \"53071\",\n",
    "    \"Whatcom\": \"53073\",\n",
    "    \"Whitman\": \"53075\",\n",
    "    \"Yakima\": \"53077\"\n",
    "}"
   ]
  },
  {
   "cell_type": "code",
   "execution_count": null,
   "id": "c6ff4654-64aa-4167-98da-95b3642d69c4",
   "metadata": {},
   "outputs": [],
   "source": [
    "# Make the DF for Export\n",
    "data_for_choropleth_df = pd.DataFrame([\n",
    "    {\"fips\": fips_map[county], \"county\": county, \"value\": count}\n",
    "    for county, count in counts.items()\n",
    "])\n",
    "print(data_for_choropleth_df)"
   ]
  },
  {
   "cell_type": "code",
   "execution_count": null,
   "id": "0564e287-0154-430f-82ed-7648399eead5",
   "metadata": {},
   "outputs": [],
   "source": [
    "# Include Counties with No Values\n",
    "existing_counties = set(data_for_choropleth_df[\"county\"])\n",
    "missing_counties = []\n",
    "for county in fips_map.keys():\n",
    "    if county not in existing_counties:\n",
    "        missing_counties.append(county)\n",
    "\n",
    "fips_list = []\n",
    "for county in missing_counties:\n",
    "    fips_list.append(fips_map[county])\n",
    "\n",
    "missing_df = pd.DataFrame({\n",
    "    \"county\": missing_counties,\n",
    "    \"fips\": fips_list,\n",
    "    \"value\": 0\n",
    "})\n",
    "\n",
    "data_for_choropleth_df = pd.concat([data_for_choropleth_df, missing_df], ignore_index=True)\n",
    "print(data_for_choropleth_df)"
   ]
  },
  {
   "cell_type": "code",
   "execution_count": null,
   "id": "23b96427-9699-42d9-9bac-009cf7578195",
   "metadata": {},
   "outputs": [],
   "source": [
    "# Export for Choropleth\n",
    "data_for_choropleth_df.to_csv(\"wdfw_2016_to_2025_county_counts.csv\", index=False)"
   ]
  }
 ],
 "metadata": {
  "kernelspec": {
   "display_name": "Python 3 (ipykernel)",
   "language": "python",
   "name": "python3"
  },
  "language_info": {
   "codemirror_mode": {
    "name": "ipython",
    "version": 3
   },
   "file_extension": ".py",
   "mimetype": "text/x-python",
   "name": "python",
   "nbconvert_exporter": "python",
   "pygments_lexer": "ipython3",
   "version": "3.12.7"
  }
 },
 "nbformat": 4,
 "nbformat_minor": 5
}

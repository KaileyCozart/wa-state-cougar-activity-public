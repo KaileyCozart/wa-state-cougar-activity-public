{
 "cells": [
  {
   "cell_type": "code",
   "execution_count": 1,
   "id": "e99f45bd-0f2e-4e2c-a196-43b362871ae8",
   "metadata": {},
   "outputs": [],
   "source": [
    "# Editable Params\n",
    "file_for_choropleth = \"df_2016_to_2025_complete.csv\" # Must have \"County\" column name."
   ]
  },
  {
   "cell_type": "code",
   "execution_count": 2,
   "id": "cbace8d5-5cc5-4e64-93d8-edb2da5b0026",
   "metadata": {},
   "outputs": [],
   "source": [
    "# Imports\n",
    "import pandas as pd\n",
    "import csv\n",
    "from collections import Counter"
   ]
  },
  {
   "cell_type": "code",
   "execution_count": 3,
   "id": "c50acad4-f84b-4ac6-a0b0-8b0e34e9b006",
   "metadata": {},
   "outputs": [
    {
     "name": "stdout",
     "output_type": "stream",
     "text": [
      "Counter({'Stevens': 332, 'Spokane': 318, 'Chelan': 276, 'King': 207, 'Pend Oreille': 190, 'Okanogan': 161, 'Grays Harbor': 156, 'Klickitat': 143, 'Snohomish': 132, 'Kittitas': 124, 'Mason': 106, 'Whatcom': 86, 'Clark': 78, 'Clallam': 74, 'Skagit': 74, 'Yakima': 74, 'Jefferson': 67, 'Ferry': 67, 'Lewis': 59, 'Lincoln': 55, 'Thurston': 55, 'Skamania': 52, 'Kitsap': 51, 'Pierce': 45, 'Douglas': 40, 'Cowlitz': 39, 'Garfield': 33, 'Columbia': 30, 'Asotin': 25, 'Walla Walla': 23, 'Whitman': 16, 'Grant': 11, 'Pacific': 10, 'Benton': 4, 'Franklin': 3, 'Wahkiakum': 1, 'Island': 1, 'Grantunty': 1})\n"
     ]
    }
   ],
   "source": [
    "# Read and Tally Data\n",
    "with open(file_for_choropleth) as file:\n",
    "    reader = csv.DictReader(file)\n",
    "    counts = Counter(row[\"County\"] for row in reader)\n",
    "print(counts)"
   ]
  },
  {
   "cell_type": "code",
   "execution_count": 4,
   "id": "66d18f56-4721-42bc-be42-d303759484bd",
   "metadata": {},
   "outputs": [
    {
     "name": "stdout",
     "output_type": "stream",
     "text": [
      "Counter({'Stevens': 332, 'Spokane': 318, 'Chelan': 276, 'King': 207, 'Pend Oreille': 190, 'Okanogan': 161, 'Grays Harbor': 156, 'Klickitat': 143, 'Snohomish': 132, 'Kittitas': 124, 'Mason': 106, 'Whatcom': 86, 'Clark': 78, 'Clallam': 74, 'Skagit': 74, 'Yakima': 74, 'Jefferson': 67, 'Ferry': 67, 'Lewis': 59, 'Lincoln': 55, 'Thurston': 55, 'Skamania': 52, 'Kitsap': 51, 'Pierce': 45, 'Douglas': 40, 'Cowlitz': 39, 'Garfield': 33, 'Columbia': 30, 'Asotin': 25, 'Walla Walla': 23, 'Whitman': 16, 'Grant': 12, 'Pacific': 10, 'Benton': 4, 'Franklin': 3, 'Wahkiakum': 1, 'Island': 1})\n"
     ]
    }
   ],
   "source": [
    "# Fix \"Grantunty\" Typo\n",
    "if \"Grantunty\" in counts:\n",
    "    counts[\"Grant\"] = counts.get(\"Grant\", 0) + counts[\"Grantunty\"]\n",
    "    del counts[\"Grantunty\"]\n",
    "print(counts)"
   ]
  },
  {
   "cell_type": "code",
   "execution_count": 5,
   "id": "925b6dde-2807-4bb7-bd47-204f98b0878b",
   "metadata": {},
   "outputs": [],
   "source": [
    "# Map to County Values in Choropleth\n",
    "fips_map = {\n",
    "    \"Adams\": \"53001\",\n",
    "    \"Asotin\": \"53003\",\n",
    "    \"Benton\": \"53005\",\n",
    "    \"Chelan\": \"53007\",\n",
    "    \"Clallam\": \"53009\",\n",
    "    \"Clark\": \"53011\",\n",
    "    \"Columbia\": \"53013\",\n",
    "    \"Cowlitz\": \"53015\",\n",
    "    \"Douglas\": \"53017\",\n",
    "    \"Ferry\": \"53019\",\n",
    "    \"Franklin\": \"53021\",\n",
    "    \"Garfield\": \"53023\",\n",
    "    \"Grant\": \"53025\",\n",
    "    \"Grays Harbor\": \"53027\",\n",
    "    \"Island\": \"53029\",\n",
    "    \"Jefferson\": \"53031\",\n",
    "    \"King\": \"53033\",\n",
    "    \"Kitsap\": \"53035\",\n",
    "    \"Kittitas\": \"53037\",\n",
    "    \"Klickitat\": \"53039\",\n",
    "    \"Lewis\": \"53041\",\n",
    "    \"Lincoln\": \"53043\",\n",
    "    \"Mason\": \"53045\",\n",
    "    \"Okanogan\": \"53047\",\n",
    "    \"Pacific\": \"53049\",\n",
    "    \"Pend Oreille\": \"53051\",\n",
    "    \"Pierce\": \"53053\",\n",
    "    \"San Juan\": \"53055\",\n",
    "    \"Skagit\": \"53057\",\n",
    "    \"Skamania\": \"53059\",\n",
    "    \"Snohomish\": \"53061\",\n",
    "    \"Spokane\": \"53063\",\n",
    "    \"Stevens\": \"53065\",\n",
    "    \"Thurston\": \"53067\",\n",
    "    \"Wahkiakum\": \"53069\",\n",
    "    \"Walla Walla\": \"53071\",\n",
    "    \"Whatcom\": \"53073\",\n",
    "    \"Whitman\": \"53075\",\n",
    "    \"Yakima\": \"53077\"\n",
    "}"
   ]
  },
  {
   "cell_type": "code",
   "execution_count": 6,
   "id": "c6ff4654-64aa-4167-98da-95b3642d69c4",
   "metadata": {},
   "outputs": [
    {
     "name": "stdout",
     "output_type": "stream",
     "text": [
      "     fips        county  value\n",
      "0   53033          King    207\n",
      "1   53023      Garfield     33\n",
      "2   53043       Lincoln     55\n",
      "3   53009       Clallam     74\n",
      "4   53007        Chelan    276\n",
      "5   53047      Okanogan    161\n",
      "6   53051  Pend Oreille    190\n",
      "7   53065       Stevens    332\n",
      "8   53031     Jefferson     67\n",
      "9   53059      Skamania     52\n",
      "10  53037      Kittitas    124\n",
      "11  53057        Skagit     74\n",
      "12  53003        Asotin     25\n",
      "13  53077        Yakima     74\n",
      "14  53027  Grays Harbor    156\n",
      "15  53041         Lewis     59\n",
      "16  53069     Wahkiakum      1\n",
      "17  53045         Mason    106\n",
      "18  53015       Cowlitz     39\n",
      "19  53017       Douglas     40\n",
      "20  53067      Thurston     55\n",
      "21  53039     Klickitat    143\n",
      "22  53049       Pacific     10\n",
      "23  53035        Kitsap     51\n",
      "24  53063       Spokane    318\n",
      "25  53011         Clark     78\n",
      "26  53021      Franklin      3\n",
      "27  53013      Columbia     30\n",
      "28  53053        Pierce     45\n",
      "29  53019         Ferry     67\n",
      "30  53075       Whitman     16\n",
      "31  53071   Walla Walla     23\n",
      "32  53061     Snohomish    132\n",
      "33  53005        Benton      4\n",
      "34  53073       Whatcom     86\n",
      "35  53029        Island      1\n",
      "36  53025         Grant     12\n"
     ]
    }
   ],
   "source": [
    "# Make the DF for Export\n",
    "data_for_choropleth_df = pd.DataFrame([\n",
    "    {\"fips\": fips_map[county], \"county\": county, \"value\": count}\n",
    "    for county, count in counts.items()\n",
    "])\n",
    "print(data_for_choropleth_df)"
   ]
  },
  {
   "cell_type": "code",
   "execution_count": 7,
   "id": "0564e287-0154-430f-82ed-7648399eead5",
   "metadata": {},
   "outputs": [
    {
     "name": "stdout",
     "output_type": "stream",
     "text": [
      "     fips        county  value\n",
      "0   53033          King    207\n",
      "1   53023      Garfield     33\n",
      "2   53043       Lincoln     55\n",
      "3   53009       Clallam     74\n",
      "4   53007        Chelan    276\n",
      "5   53047      Okanogan    161\n",
      "6   53051  Pend Oreille    190\n",
      "7   53065       Stevens    332\n",
      "8   53031     Jefferson     67\n",
      "9   53059      Skamania     52\n",
      "10  53037      Kittitas    124\n",
      "11  53057        Skagit     74\n",
      "12  53003        Asotin     25\n",
      "13  53077        Yakima     74\n",
      "14  53027  Grays Harbor    156\n",
      "15  53041         Lewis     59\n",
      "16  53069     Wahkiakum      1\n",
      "17  53045         Mason    106\n",
      "18  53015       Cowlitz     39\n",
      "19  53017       Douglas     40\n",
      "20  53067      Thurston     55\n",
      "21  53039     Klickitat    143\n",
      "22  53049       Pacific     10\n",
      "23  53035        Kitsap     51\n",
      "24  53063       Spokane    318\n",
      "25  53011         Clark     78\n",
      "26  53021      Franklin      3\n",
      "27  53013      Columbia     30\n",
      "28  53053        Pierce     45\n",
      "29  53019         Ferry     67\n",
      "30  53075       Whitman     16\n",
      "31  53071   Walla Walla     23\n",
      "32  53061     Snohomish    132\n",
      "33  53005        Benton      4\n",
      "34  53073       Whatcom     86\n",
      "35  53029        Island      1\n",
      "36  53025         Grant     12\n",
      "37  53001         Adams      0\n",
      "38  53055      San Juan      0\n"
     ]
    }
   ],
   "source": [
    "# Include Counties with No Values\n",
    "existing_counties = set(data_for_choropleth_df[\"county\"])\n",
    "missing_counties = []\n",
    "for county in fips_map.keys():\n",
    "    if county not in existing_counties:\n",
    "        missing_counties.append(county)\n",
    "\n",
    "fips_list = []\n",
    "for county in missing_counties:\n",
    "    fips_list.append(fips_map[county])\n",
    "\n",
    "missing_df = pd.DataFrame({\n",
    "    \"county\": missing_counties,\n",
    "    \"fips\": fips_list,\n",
    "    \"value\": 0\n",
    "})\n",
    "\n",
    "data_for_choropleth_df = pd.concat([data_for_choropleth_df, missing_df], ignore_index=True)\n",
    "print(data_for_choropleth_df)"
   ]
  },
  {
   "cell_type": "code",
   "execution_count": 8,
   "id": "23b96427-9699-42d9-9bac-009cf7578195",
   "metadata": {},
   "outputs": [],
   "source": [
    "# Export for Choropleth\n",
    "data_for_choropleth_df.to_csv(\"wdfw_2016_to_2025_county_counts.csv\", index=False)"
   ]
  }
 ],
 "metadata": {
  "kernelspec": {
   "display_name": "Python 3 (ipykernel)",
   "language": "python",
   "name": "python3"
  },
  "language_info": {
   "codemirror_mode": {
    "name": "ipython",
    "version": 3
   },
   "file_extension": ".py",
   "mimetype": "text/x-python",
   "name": "python",
   "nbconvert_exporter": "python",
   "pygments_lexer": "ipython3",
   "version": "3.12.7"
  }
 },
 "nbformat": 4,
 "nbformat_minor": 5
}
